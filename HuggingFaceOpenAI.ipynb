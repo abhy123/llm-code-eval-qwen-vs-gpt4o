{
 "cells": [
  {
   "cell_type": "code",
   "execution_count": 58,
   "id": "c79f7c38-ba94-4212-b602-6a6dac2af209",
   "metadata": {},
   "outputs": [],
   "source": [
    "import subprocess\n",
    "import os\n",
    "import time\n",
    "from openai import OpenAI\n",
    "import google.generativeai as genai"
   ]
  },
  {
   "cell_type": "code",
   "execution_count": 73,
   "id": "1cc86c45-f640-476f-a758-582b8ffd49db",
   "metadata": {},
   "outputs": [],
   "source": [
    "HF_BASE_URL = \"https://router.huggingface.co/v1\"\n",
    "HF_TOKEN = os.getenv(\"HF_TOKEN\")  # Ensure this is set in your environment\n",
    "OPENAI_KEY = os.getenv(\"OPENAI_API_KEY\")"
   ]
  },
  {
   "cell_type": "code",
   "execution_count": 74,
   "id": "9da74482-51cf-4de5-9d82-aa08b70c1b6b",
   "metadata": {},
   "outputs": [],
   "source": [
    "client_openai = OpenAI(api_key=OPENAI_KEY)\n",
    "client_hf = OpenAI(base_url=HF_BASE_URL, api_key=HF_TOKEN)"
   ]
  },
  {
   "cell_type": "code",
   "execution_count": 120,
   "id": "3b02fd51-1640-42c1-9f27-54a7064d5791",
   "metadata": {},
   "outputs": [],
   "source": [
    "import random\n",
    "\n",
    "random.seed(42)\n",
    "\n",
    "shared_array = [\n",
    "    random.randint(-10_000, 100) if random.random() < 0.95 else random.randint(50_000, 100_000)\n",
    "    for _ in range(6000)\n",
    "    # for _ in range(10_000_000)\n",
    "]\n",
    "\n",
    "with open(\"input_array.txt\", \"w\") as f:\n",
    "    f.write(\" \".join(map(str, shared_array)))\n"
   ]
  },
  {
   "cell_type": "code",
   "execution_count": 52,
   "id": "1e132894-988a-45af-8583-ddb85ba2704f",
   "metadata": {},
   "outputs": [],
   "source": [
    "problem_prompt = \"\"\"\n",
    "Write a Python function that reads an array of integers from a file named 'input_array.txt'. From this array, compute the maximum sum of any contiguous subarray of size exactly k=5000, where you're allowed to skip (i.e., ignore) **at most one negative number** in that subarray to boost the sum.\n",
    "\n",
    "Skipping means: you may choose to drop one negative number's contribution within the window, but only once. If all numbers are non-negative, no skip is needed.\n",
    "\n",
    "Print only the resulting maximum sum. Do not print anything else.\n",
    "\"\"\"\n",
    "\n",
    "\n",
    "convert_prompt = \"\"\"\n",
    "Convert the following Python code to Java. Use readable syntax and ensure all logic is correctly translated.\n",
    "\"\"\""
   ]
  },
  {
   "cell_type": "code",
   "execution_count": 110,
   "id": "2a5b899a-49cc-473e-aaa6-c70229657c9e",
   "metadata": {},
   "outputs": [],
   "source": [
    "def generate_with_model(client, model_name, system_msg, user_prompt):\n",
    "    \n",
    "    response = client.chat.completions.create(\n",
    "        model=model_name,\n",
    "        messages=[\n",
    "            {\"role\": \"system\", \"content\": system_msg},\n",
    "            {\"role\": \"user\", \"content\": user_prompt}\n",
    "        ]\n",
    "    )\n",
    "    return response.choices[0].message.content\n",
    "\n",
    "models = {\n",
    "    # \"hf_llama\": \"meta-llama/Llama-3.3-70B-Instruct:novita\",\n",
    "    \"huggingface\": \"Qwen/Qwen3-Coder-480B-A35B-Instruct:novita\",\n",
    "     \"openai\": \"gpt-4o\"\n",
    "}"
   ]
  },
  {
   "cell_type": "code",
   "execution_count": 83,
   "id": "a43fc0bb-d131-4808-8272-0ab439de37e2",
   "metadata": {},
   "outputs": [],
   "source": [
    "import re\n",
    "\n",
    "def extract_code(text, lang=None):\n",
    "    pattern = rf\"```{lang or ''}\\n(.*?)```\" if lang else r\"```.*?\\n(.*?)```\"\n",
    "    match = re.search(pattern, text, re.DOTALL)\n",
    "    if match:\n",
    "        return match.group(1).strip()\n",
    "    \n",
    "    lines = text.splitlines()\n",
    "    clean_lines = [line for line in lines if not line.strip().lower().startswith(\"here's\")]\n",
    "    return \"\\n\".join(clean_lines).strip()\n"
   ]
  },
  {
   "cell_type": "code",
   "execution_count": 105,
   "id": "1971cce4-bba7-49ae-8a18-21d9f7f1f5bf",
   "metadata": {},
   "outputs": [],
   "source": [
    "import subprocess\n",
    "import time\n",
    "\n",
    "def run_python(py_file, timeout=180):\n",
    "    try:\n",
    "        start = time.time()\n",
    "        result = subprocess.run([\"python\", py_file], capture_output=True, text=True, timeout=timeout)\n",
    "        end = time.time()\n",
    "        return result.stdout.strip(), result.stderr.strip(), end - start\n",
    "    except subprocess.TimeoutExpired:\n",
    "        return \"\", \"Timeout\", timeout\n",
    "\n",
    "def run_java(java_file, timeout=180):\n",
    "    classname = java_file.replace(\".java\", \"\")\n",
    "    try:\n",
    "        subprocess.run([\"javac\", java_file], check=True)\n",
    "        start = time.time()\n",
    "        # Run the Java class file\n",
    "        result = subprocess.run([\"java\", classname], capture_output=True, text=True, timeout=timeout)\n",
    "        end = time.time()\n",
    "        return result.stdout.strip(), result.stderr.strip(), end - start\n",
    "    except subprocess.TimeoutExpired:\n",
    "        return \"\", \"Timeout\", timeout\n",
    "    except subprocess.CalledProcessError as e:\n",
    "        return \"\", str(e), 0\n"
   ]
  },
  {
   "cell_type": "code",
   "execution_count": 98,
   "id": "2aea105c-729d-483a-9b73-62cf4675f256",
   "metadata": {
    "scrolled": true
   },
   "outputs": [
    {
     "name": "stdout",
     "output_type": "stream",
     "text": [
      "\n",
      "--- Generating Python code using openai (gpt-4o) ---\n",
      "\n",
      "--- Converting to Java using openai (gpt-4o) ---\n",
      "\n",
      "Code generation complete. Files saved:\n",
      "- openai_solution.py\n",
      "- openai_solution.java\n",
      "\n",
      "--- OPENAI ---\n",
      "[Python]  Time: 4.87s | Output: 935257\n",
      "[Java]    Time: 1.49s | Output: 935257\n",
      "\n",
      "--- HF_LLAMA ---\n",
      "[Python]  Time: 60.00s | Output:  | Error: Timeout\n",
      "[Java]    Time: 60.00s | Output:  | Error: Timeout\n",
      "\n",
      "--- HF_QWEN ---\n",
      "[Python]  Time: 60.00s | Output:  | Error: Timeout\n",
      "[Java]    Time: 53.05s | Output: 940462\n"
     ]
    }
   ],
   "source": [
    "results = {}\n",
    "\n",
    "for name, model_id in models.items():\n",
    "    print(f\"\\n--- Generating Python code using {name} ({model_id}) ---\")\n",
    "    client = client_hf\n",
    "    if name == \"openai\":\n",
    "        client = client_openai\n",
    "    # elif name == \"google\":\n",
    "    #     client = genai.GenerativeModel(model_id)\n",
    "        \n",
    "    py_code = generate_with_model(client, model_id, \"You are a helpful Python coding assistant.\", problem_prompt)\n",
    "    results[name] = {\"python\": py_code}\n",
    "\n",
    "    print(f\"\\n--- Converting to Java using {name} ({model_id}) ---\")\n",
    "    java_code = generate_with_model(client, model_id, \"You are a Java coding assistant.\", convert_prompt + py_code)\n",
    "    results[name][\"java\"] = java_code\n",
    "\n",
    "for model_name, data in results.items():\n",
    "    py_code = extract_code(data[\"python\"], \"python\")\n",
    "    java_code = extract_code(data[\"java\"], \"java\")\n",
    "\n",
    "    with open(f\"{model_name}_solution.py\", \"w\") as pyf:\n",
    "        pyf.write(py_code)\n",
    "    with open(f\"{model_name}_solution.java\", \"w\") as jf:\n",
    "        jf.write(java_code)\n",
    "\n",
    "print(\"\\nCode generation complete. Files saved:\")\n",
    "for model in results:\n",
    "    print(f\"- {model}_solution.py\")\n",
    "    print(f\"- {model}_solution.java\")\n"
   ]
  },
  {
   "cell_type": "code",
   "execution_count": 121,
   "id": "f1fcc88e-d3f5-4187-b285-a526443788da",
   "metadata": {},
   "outputs": [
    {
     "name": "stdout",
     "output_type": "stream",
     "text": [
      "6000\n"
     ]
    }
   ],
   "source": [
    "with open('input_array.txt', 'r') as file:\n",
    "        content = file.read().strip()\n",
    "        if content:\n",
    "            arr = list(map(int, content.split()))\n",
    "            print(len(arr))"
   ]
  },
  {
   "cell_type": "code",
   "execution_count": 125,
   "id": "c0c89e34-ef5b-4728-bb72-5d4afe06bceb",
   "metadata": {},
   "outputs": [
    {
     "name": "stdout",
     "output_type": "stream",
     "text": [
      "\n",
      "--- OPENAI ---\n",
      "[Python]  Time: 0.07s | Output: -2171148\n",
      "[Java]    Time: 0.19s | Output: -2171148\n",
      "\n",
      "--- HUGGINGFACE ---\n",
      "[Python]  Time: 0.10s | Output: -2164046\n",
      "[Java]    Time: 0.18s | Output: -2164046\n"
     ]
    }
   ],
   "source": [
    "for model in [\"openai\", \"huggingface\"]:\n",
    "    py_file = f\"{model}_solution.py\"\n",
    "    java_file = f\"{model}_solution.java\"\n",
    "\n",
    "    # Fix class name in Java file to match file name\n",
    "    with open(java_file, \"r\") as jf:\n",
    "        java_code = jf.read()\n",
    "\n",
    "    updated_class_name = model + \"_solution\"\n",
    "    java_code = replace_java_class_name(java_code, updated_class_name)\n",
    "\n",
    "    # Write it back\n",
    "    with open(java_file, \"w\") as jf:\n",
    "        jf.write(java_code)\n",
    "\n",
    "    py_out, py_err, py_time = run_python(py_file, timeout=180)\n",
    "    java_out, java_err, java_time = run_java(java_file, timeout=180)\n",
    "\n",
    "\n",
    "    print(f\"\\n--- {model.upper()} ---\")\n",
    "\n",
    "    py_error_msg = f\" | Error: {py_err[:100]}\" if py_err else \"\"\n",
    "    java_error_msg = f\" | Error: {java_err[:100]}\" if java_err else \"\"\n",
    "\n",
    "    print(f\"[Python]  Time: {py_time:.2f}s | Output: {py_out[:100]}{py_error_msg}\")\n",
    "    print(f\"[Java]    Time: {java_time:.2f}s | Output: {java_out[:100]}{java_error_msg}\")"
   ]
  },
  {
   "cell_type": "code",
   "execution_count": null,
   "id": "ad6f0aea-daa8-454f-8729-9504d1ff0845",
   "metadata": {},
   "outputs": [],
   "source": []
  }
 ],
 "metadata": {
  "kernelspec": {
   "display_name": "Python 3 (ipykernel)",
   "language": "python",
   "name": "python3"
  },
  "language_info": {
   "codemirror_mode": {
    "name": "ipython",
    "version": 3
   },
   "file_extension": ".py",
   "mimetype": "text/x-python",
   "name": "python",
   "nbconvert_exporter": "python",
   "pygments_lexer": "ipython3",
   "version": "3.11.11"
  }
 },
 "nbformat": 4,
 "nbformat_minor": 5
}
